{
 "cells": [
  {
   "cell_type": "code",
   "execution_count": 9,
   "id": "abec04a1-7def-4b60-bb55-f434f3d87ee3",
   "metadata": {},
   "outputs": [
    {
     "name": "stdout",
     "output_type": "stream",
     "text": [
      "0.9733333333333334\n"
     ]
    },
    {
     "ename": "AttributeError",
     "evalue": "'LogisticRegression' object has no attribute 'setparams'",
     "output_type": "error",
     "traceback": [
      "\u001b[1;31m---------------------------------------------------------------------------\u001b[0m",
      "\u001b[1;31mAttributeError\u001b[0m                            Traceback (most recent call last)",
      "Cell \u001b[1;32mIn[9], line 23\u001b[0m\n\u001b[0;32m     20\u001b[0m \u001b[38;5;28mprint\u001b[39m(logr\u001b[38;5;241m.\u001b[39mscore(X, y))\n\u001b[0;32m     22\u001b[0m \u001b[38;5;28;01mfor\u001b[39;00m choice \u001b[38;5;129;01min\u001b[39;00m C:\n\u001b[1;32m---> 23\u001b[0m     logr\u001b[38;5;241m.\u001b[39msetparams(C\u001b[38;5;241m=\u001b[39mchoice)\n\u001b[0;32m     24\u001b[0m     logr\u001b[38;5;241m.\u001b[39mfit(X, y)\n\u001b[0;32m     25\u001b[0m     accu_scores\u001b[38;5;241m.\u001b[39mappend(metrics\u001b[38;5;241m.\u001b[39maccuracy_score(y, y_pred))\n",
      "\u001b[1;31mAttributeError\u001b[0m: 'LogisticRegression' object has no attribute 'setparams'"
     ]
    }
   ],
   "source": [
    "import numpy as np\n",
    "from sklearn import linear_model, datasets, metrics\n",
    "\n",
    "iris = datasets.load_iris()\n",
    "\n",
    "X = iris['data']\n",
    "y = iris['target']\n",
    "\n",
    "accu_scores = []\n",
    "\n",
    "C = [0.25, 0.5, 0.75, 1, 1.25, 1.5, 1.75, 2]\n",
    "\n",
    "logr = linear_model.LogisticRegression(max_iter = 10000)\n",
    "\n",
    "logr.fit(X, y)\n",
    "\n",
    "y_pred = logr.predict(X)\n",
    "\n",
    "accuracy1  = metrics.accuracy_score(y, y_pred)\n",
    "print(logr.score(X, y))\n",
    "\n",
    "for choice in C:\n",
    "    logr.set_params(C=choice)\n",
    "    logr.fit(X, y)\n",
    "    accu_scores.append(metrics.accuracy_score(y, y_pred))\n",
    "\n",
    "print(accu_scores)"
   ]
  },
  {
   "cell_type": "code",
   "execution_count": null,
   "id": "3d730283-59ee-49c4-9f2c-4d630ceeb1db",
   "metadata": {},
   "outputs": [],
   "source": []
  }
 ],
 "metadata": {
  "kernelspec": {
   "display_name": "Python [conda env:base] *",
   "language": "python",
   "name": "conda-base-py"
  },
  "language_info": {
   "codemirror_mode": {
    "name": "ipython",
    "version": 3
   },
   "file_extension": ".py",
   "mimetype": "text/x-python",
   "name": "python",
   "nbconvert_exporter": "python",
   "pygments_lexer": "ipython3",
   "version": "3.12.7"
  }
 },
 "nbformat": 4,
 "nbformat_minor": 5
}
